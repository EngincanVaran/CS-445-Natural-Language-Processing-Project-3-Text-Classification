{
  "nbformat": 4,
  "nbformat_minor": 0,
  "metadata": {
    "colab": {
      "name": "project03_CNN.ipynb",
      "provenance": [],
      "collapsed_sections": [
        "HHMhSk3rtndn",
        "IEbbdyPBtt3T",
        "PSwQz3Ld3_Q1",
        "Co7xHYqbPwFS"
      ]
    },
    "kernelspec": {
      "name": "python3",
      "display_name": "Python 3"
    }
  },
  "cells": [
    {
      "cell_type": "markdown",
      "metadata": {
        "id": "HHMhSk3rtndn"
      },
      "source": [
        "# Imports"
      ]
    },
    {
      "cell_type": "code",
      "metadata": {
        "colab": {
          "base_uri": "https://localhost:8080/"
        },
        "id": "AXwbK-qSKObr",
        "outputId": "b25fa2b7-d853-40e6-813c-19fa45dd1042"
      },
      "source": [
        "%%shell\n",
        "jupyter nbconvert --to html \"/content/project03_CNN.ipynb\""
      ],
      "execution_count": null,
      "outputs": [
        {
          "output_type": "stream",
          "text": [
            "[NbConvertApp] Converting notebook /content/project03_CNN.ipynb to html\n",
            "[NbConvertApp] Writing 588827 bytes to /content/project03_CNN.html\n"
          ],
          "name": "stdout"
        },
        {
          "output_type": "execute_result",
          "data": {
            "text/plain": [
              ""
            ]
          },
          "metadata": {
            "tags": []
          },
          "execution_count": 47
        }
      ]
    },
    {
      "cell_type": "code",
      "metadata": {
        "colab": {
          "base_uri": "https://localhost:8080/"
        },
        "id": "VGBTC-j8hlZt",
        "outputId": "6c208b12-d7d3-43c7-96e5-3542932163fa"
      },
      "source": [
        "import tensorflow as tf\r\n",
        "tf.test.gpu_device_name()\r\n",
        "import nltk\r\n",
        "nltk.download(\"stopwords\")\r\n",
        "nltk.download('punkt')"
      ],
      "execution_count": null,
      "outputs": [
        {
          "output_type": "stream",
          "text": [
            "[nltk_data] Downloading package stopwords to /root/nltk_data...\n",
            "[nltk_data]   Package stopwords is already up-to-date!\n",
            "[nltk_data] Downloading package punkt to /root/nltk_data...\n",
            "[nltk_data]   Package punkt is already up-to-date!\n"
          ],
          "name": "stdout"
        },
        {
          "output_type": "execute_result",
          "data": {
            "text/plain": [
              "True"
            ]
          },
          "metadata": {
            "tags": []
          },
          "execution_count": 31
        }
      ]
    },
    {
      "cell_type": "code",
      "metadata": {
        "id": "Ul7_dsshCiWf"
      },
      "source": [
        "import pandas as pd\n",
        "import numpy as np\n",
        "import random\n",
        "import re\n",
        "import matplotlib.pyplot as plt\n",
        "\n",
        "from nltk import word_tokenize, sent_tokenize\n",
        "from gensim.models import Word2Vec, KeyedVectors\n",
        "\n",
        "from sklearn.feature_extraction.text import TfidfVectorizer, CountVectorizer\n",
        "from sklearn.metrics import confusion_matrix, accuracy_score, classification_report\n",
        "from sklearn.model_selection import train_test_split\n",
        "\n",
        "from keras import Sequential, Model\n",
        "from keras import layers\n",
        "from keras.utils import to_categorical\n",
        "from keras.callbacks import EarlyStopping\n",
        "from keras.preprocessing.text import Tokenizer\n",
        "from keras.preprocessing.sequence import pad_sequences\n",
        "from keras.utils.vis_utils import plot_model\n",
        "from nltk.corpus import stopwords as STOPWORDS\n",
        "\n",
        "stopWords = set(STOPWORDS.words('turkish'))"
      ],
      "execution_count": null,
      "outputs": []
    },
    {
      "cell_type": "markdown",
      "metadata": {
        "id": "IEbbdyPBtt3T"
      },
      "source": [
        "# Preparing Data"
      ]
    },
    {
      "cell_type": "code",
      "metadata": {
        "id": "QKApF_bCSteG"
      },
      "source": [
        "folder_path = \"/content/drive/MyDrive/CS 445 Project 3\""
      ],
      "execution_count": null,
      "outputs": []
    },
    {
      "cell_type": "code",
      "metadata": {
        "id": "4cnlzsQylCeR"
      },
      "source": [
        "def plotHistory(history):\r\n",
        "    # Plot training & validation accuracy values\r\n",
        "    plt.plot(history.history['accuracy'])\r\n",
        "    plt.plot(history.history['val_accuracy'])\r\n",
        "    plt.title('Model accuracy')\r\n",
        "    plt.ylabel('Accuracy')\r\n",
        "    plt.xlabel('Epoch')\r\n",
        "    plt.legend(['Train', 'Validation'], loc='upper left')\r\n",
        "    plt.show()\r\n",
        "\r\n",
        "    # Plot training & validation loss values\r\n",
        "    plt.plot(history.history['loss'])\r\n",
        "    plt.plot(history.history['val_loss'])\r\n",
        "    plt.title('Model loss')\r\n",
        "    plt.ylabel('Loss')\r\n",
        "    plt.xlabel('Epoch')\r\n",
        "    plt.legend(['Train', 'Validation'], loc='upper left')\r\n",
        "    plt.show()\r\n",
        "\r\n",
        "def preprocess(docs):\r\n",
        "    result = []\r\n",
        "    for d in docs:\r\n",
        "        a = re.sub(r'[\\'’\\\"”][\\w]+ ', \" \" ,d)\r\n",
        "        for stopword in stopWords:\r\n",
        "            a = a.replace(\" \"+ stopword + \" \", \" \")\r\n",
        "        a = re.sub(r'[“’‘\\'\\\"”…]', \"\", a)\r\n",
        "        a = re.sub(r'\\d+', \"\", a)\r\n",
        "        a = a.replace(\"  \", \" \")\r\n",
        "        result.append(a.lower())\r\n",
        "    return result"
      ],
      "execution_count": null,
      "outputs": []
    },
    {
      "cell_type": "code",
      "metadata": {
        "id": "CeI72SIgCnJK"
      },
      "source": [
        "def read_data(path):\n",
        "    data = pd.read_csv(path)\n",
        "    return data\n",
        "\n",
        "path = folder_path + \"/dataset/train.csv\"\n",
        "data = read_data(path)\n",
        "\n",
        "path = folder_path +  \"/dataset/test.csv\"\n",
        "test_data = read_data(path)"
      ],
      "execution_count": null,
      "outputs": []
    },
    {
      "cell_type": "code",
      "metadata": {
        "id": "RwYUHIsJCfZ0"
      },
      "source": [
        "data_text = data[\"text\"]\n",
        "data_label = data[\"label\"]\n",
        "\n",
        "test_data_text = test_data[\"text\"]\n",
        "test_data_label = test_data[\"label\"]"
      ],
      "execution_count": null,
      "outputs": []
    },
    {
      "cell_type": "code",
      "metadata": {
        "id": "-NGRquWvzmf8"
      },
      "source": [
        "class_mapping = {\n",
        "    \"turkiye\": 0,\n",
        "    \"dunya\": 1,\n",
        "    \"spor\": 2,\n",
        "    \"video\": 3,\n",
        "    \"yazarlar\": 4,\n",
        "}"
      ],
      "execution_count": null,
      "outputs": []
    },
    {
      "cell_type": "code",
      "metadata": {
        "colab": {
          "base_uri": "https://localhost:8080/",
          "height": 105
        },
        "id": "lhDsRk7Ay7ZL",
        "outputId": "7b825c31-c411-4bf3-e9ac-314323e447b0"
      },
      "source": [
        "data_text[0]"
      ],
      "execution_count": null,
      "outputs": [
        {
          "output_type": "execute_result",
          "data": {
            "application/vnd.google.colaboratory.intrinsic+json": {
              "type": "string"
            },
            "text/plain": [
              "\"Beşiktaş'ın eski teknik direktörü Slaven Bilic, Türkiye-Hırvatistan maçında yorumculuk yapmak üzere Lig TV ile anlaştı.\\nEURO 2016'nın yayıncı kuruluşlarından biri olan Lig TV, Türkiye'nin D Grubu'nda Hırvatistan ile oynayacağı ilk maç için Slaven Bilic ile anlaşıldığını duyurdu.\\nBeşiktaş'ın eski teknik direktörü Slaven Bilic, 12 Haziran Pazar günü TSİ 16:00'da başlayacak mücadelede yorumcu olacak.\\nLig TV, Slaven Bilic'in yanı sıra A Milli Takım'ın efsane kalecilerinden Rüştü Reçber'in de bu karşılaşmanın yorumcularından biri olacağını açıkladı.\\nEURO 2008'de Hırvatistan'ın teknik direktörü olan Slaven Bilic, çeyrek finalde Türkiye'ye rakip olmuş ve 120 dakikası 1-1 biten maçta A Milli Takımımıza penaltılarda elenmişti.\""
            ]
          },
          "metadata": {
            "tags": []
          },
          "execution_count": 38
        }
      ]
    },
    {
      "cell_type": "code",
      "metadata": {
        "id": "GXgta6ogxjOD"
      },
      "source": [
        "data_text = preprocess(data_text)\r\n",
        "test_data_text = preprocess(test_data_text)"
      ],
      "execution_count": null,
      "outputs": []
    },
    {
      "cell_type": "code",
      "metadata": {
        "colab": {
          "base_uri": "https://localhost:8080/",
          "height": 105
        },
        "id": "fmgHqd3Ty3AM",
        "outputId": "c5f814b7-d499-40b0-d1e1-28fcb41ad628"
      },
      "source": [
        "data_text[0]"
      ],
      "execution_count": null,
      "outputs": [
        {
          "output_type": "execute_result",
          "data": {
            "application/vnd.google.colaboratory.intrinsic+json": {
              "type": "string"
            },
            "text/plain": [
              "'beşiktaş eski teknik direktörü slaven bilic, türkiye-hırvatistan maçında yorumculuk yapmak üzere lig tv anlaştı.\\neuro yayıncı kuruluşlarından olan lig tv, türkiye d grubu hırvatistan oynayacağı ilk maç slaven bilic anlaşıldığını duyurdu.\\nbeşiktaş eski teknik direktörü slaven bilic, haziran pazar günü tsi̇ : başlayacak mücadelede yorumcu olacak.\\nlig tv, slaven bilic yanı sıra a milli takım efsane kalecilerinden rüştü reçber karşılaşmanın yorumcularından olacağını açıkladı.\\neuro hırvatistan teknik direktörü olan slaven bilic, çeyrek finalde türkiye rakip olmuş dakikası - biten maçta a milli takımımıza penaltılarda elenmişti.'"
            ]
          },
          "metadata": {
            "tags": []
          },
          "execution_count": 40
        }
      ]
    },
    {
      "cell_type": "markdown",
      "metadata": {
        "id": "PSwQz3Ld3_Q1"
      },
      "source": [
        "# Choose Pre-Trained Embedding"
      ]
    },
    {
      "cell_type": "code",
      "metadata": {
        "id": "NCgk0pip-5-4"
      },
      "source": [
        "EMBEDDING_DIM = 400\r\n",
        "\r\n",
        "word_vectors = KeyedVectors.load_word2vec_format(folder_path + '/trmodel', binary=True)"
      ],
      "execution_count": null,
      "outputs": []
    },
    {
      "cell_type": "code",
      "metadata": {
        "id": "j1EWvnC6aBj6"
      },
      "source": [
        "EMBEDDING_DIM = 300\r\n",
        "\r\n",
        "word_vectors = KeyedVectors.load_word2vec_format(folder_path + \"/CBOW_100k_300_10.txt\", binary=False)"
      ],
      "execution_count": null,
      "outputs": []
    },
    {
      "cell_type": "code",
      "metadata": {
        "id": "DrjODDFXeF60"
      },
      "source": [
        "EMBEDDING_DIM = 200\r\n",
        "\r\n",
        "word_vectors = KeyedVectors.load_word2vec_format(folder_path + \"/CBOW_100k_200_10.txt\", binary=False)"
      ],
      "execution_count": null,
      "outputs": []
    },
    {
      "cell_type": "code",
      "metadata": {
        "id": "Ygmlof9VhmSF"
      },
      "source": [
        "EMBEDDING_DIM = 100\r\n",
        "\r\n",
        "word_vectors = KeyedVectors.load_word2vec_format(folder_path + \"/CBOW_100k_100_10.txt\", binary=False)"
      ],
      "execution_count": null,
      "outputs": []
    },
    {
      "cell_type": "code",
      "metadata": {
        "id": "tgTvENhBSaz_"
      },
      "source": [
        "EMBEDDING_DIM = 300\r\n",
        "\r\n",
        "word_vectors = KeyedVectors.load_word2vec_format(folder_path + \"/Skipgram_100k_300_10.txt\", binary=False)"
      ],
      "execution_count": null,
      "outputs": []
    },
    {
      "cell_type": "code",
      "metadata": {
        "id": "w08IoHgcSlTW"
      },
      "source": [
        "EMBEDDING_DIM = 200\r\n",
        "\r\n",
        "word_vectors = KeyedVectors.load_word2vec_format(folder_path + \"/Skipgram_100k_200_10.txt\", binary=False)"
      ],
      "execution_count": null,
      "outputs": []
    },
    {
      "cell_type": "code",
      "metadata": {
        "id": "CDjXNr02Snak"
      },
      "source": [
        "EMBEDDING_DIM = 100\r\n",
        "\r\n",
        "word_vectors = KeyedVectors.load_word2vec_format(folder_path + \"/Skipgram_100k_100_10.txt\", binary=False)"
      ],
      "execution_count": null,
      "outputs": []
    },
    {
      "cell_type": "markdown",
      "metadata": {
        "id": "M0LqzQ_ZgwaU"
      },
      "source": [
        "# CNN"
      ]
    },
    {
      "cell_type": "code",
      "metadata": {
        "id": "gVAIgHXoVVPE"
      },
      "source": [
        "from datetime import date, datetime\r\n",
        "\r\n",
        "accuracyLogsFile = open(folder_path + \"/CNN_Accuracies.txt\", \"w\")"
      ],
      "execution_count": null,
      "outputs": []
    },
    {
      "cell_type": "code",
      "metadata": {
        "id": "73pGZgKKOTwb"
      },
      "source": [
        "def runAll(data_text, data_label, test_data_text, test_data_label, pre_trained_embedding , train_embedding, patience, EMBEDDING_DIM, word_vectors, name):\r\n",
        "    tokenizer = Tokenizer()\r\n",
        "    tokenizer.fit_on_texts(data_text)\r\n",
        "    \r\n",
        "    encoded_docs = tokenizer.texts_to_sequences(data_text)\r\n",
        "\r\n",
        "    max_length = max([len(s.split()) for s in data_text])\r\n",
        "    Xtrain = pad_sequences(encoded_docs, maxlen=max_length, padding='post')\r\n",
        "\r\n",
        "    vocab_size = len(tokenizer.word_index) + 1\r\n",
        "\r\n",
        "    word_index = tokenizer.word_index\r\n",
        "\r\n",
        "    if pre_trained_embedding:\r\n",
        "        count = 0\r\n",
        "        embedding_matrix = np.zeros((vocab_size, EMBEDDING_DIM))\r\n",
        "        \r\n",
        "        for word, i in word_index.items():\r\n",
        "            try:\r\n",
        "                embedding_vector = word_vectors[word]\r\n",
        "                embedding_matrix[i] = embedding_vector\r\n",
        "            except KeyError:\r\n",
        "                count += 1\r\n",
        "                # if random.randint(0,19) == 0:\r\n",
        "                #     print(word,\"removed\")\r\n",
        "                embedding_matrix[i]=np.random.normal(0,np.sqrt(0.25),EMBEDDING_DIM)\r\n",
        "\r\n",
        "        print(\"************\\n\", count, \"many word randomized.\\n************\\n\")\r\n",
        "\r\n",
        "        # del(word_vectors)\r\n",
        "\r\n",
        "    train_labels = np.array( data_label.map(class_mapping) )\r\n",
        "    # train_labels = to_categorical(train_labels, 5)\r\n",
        "\r\n",
        "    y_test = np.array( test_data_label.map(class_mapping) )\r\n",
        "    # y_test = to_categorical(y_test, 5)\r\n",
        "\r\n",
        "    X_train, X_valid, y_train, y_valid = train_test_split(\r\n",
        "                                                    Xtrain,\r\n",
        "                                                    train_labels,\r\n",
        "                                                    test_size = 0.1,\r\n",
        "                                                    random_state = 42)\r\n",
        "\r\n",
        "    encoded_docs = tokenizer.texts_to_sequences(test_data_text)\r\n",
        "\r\n",
        "    X_test = pad_sequences(encoded_docs, maxlen=max_length, padding='post')\r\n",
        "\r\n",
        "    if pre_trained_embedding:\r\n",
        "        print(\"Pre-Trained Word Embedding\")\r\n",
        "        embedding_layer = layers.Embedding(vocab_size,\r\n",
        "                                EMBEDDING_DIM,\r\n",
        "                                input_length=max_length,\r\n",
        "                                weights=[embedding_matrix],\r\n",
        "                                trainable=train_embedding,\r\n",
        "                                input_shape=(X_train.shape[1],)\r\n",
        "                                )\r\n",
        "    else:\r\n",
        "        print(\"Randomized Word Embedding\")\r\n",
        "        embedding_layer = layers.Embedding(vocab_size,\r\n",
        "                                    EMBEDDING_DIM,\r\n",
        "                                    input_length=max_length,\r\n",
        "                                    trainable=train_embedding,\r\n",
        "                                    input_shape=(X_train.shape[1],)\r\n",
        "                                ) \r\n",
        "\r\n",
        "    model = Sequential()\r\n",
        "\r\n",
        "    model.add(embedding_layer)\r\n",
        "\r\n",
        "    model.add(layers.Conv1D(filters=128, kernel_size=8, padding=\"same\", activation='relu'))\r\n",
        "\r\n",
        "    model.add(layers.Dropout(rate=0.5))\r\n",
        "\r\n",
        "    model.add(layers.MaxPooling1D(pool_size=2))\r\n",
        "\r\n",
        "    model.add(layers.Flatten())\r\n",
        "\r\n",
        "    model.add(layers.Dense(10, activation='relu'))\r\n",
        "\r\n",
        "    model.add(layers.Dense(5, activation='softmax'))\r\n",
        "\r\n",
        "    es_loss = EarlyStopping(monitor='val_loss', patience=4)\r\n",
        "    es_acc = EarlyStopping(monitor='val_accuracy', patience=4)\r\n",
        "\r\n",
        "    model.compile(loss='sparse_categorical_crossentropy',\r\n",
        "              optimizer = \"adam\",\r\n",
        "              metrics=['accuracy'])\r\n",
        "\r\n",
        "    print(model.summary())\r\n",
        "\r\n",
        "    plot_model(model, show_shapes=True , to_file=folder_path + \"/Model Layers/Model Layers_\" + name + \".png\")\r\n",
        "\r\n",
        "    model.save(folder_path + \"/Saved Model Weights/Model_Weights_\" + name + \".h5\")\r\n",
        "\r\n",
        "    history = model.fit(    X_train , y_train,\r\n",
        "                            epochs=20,\r\n",
        "                            validation_data=(X_valid, y_valid),\r\n",
        "                            callbacks=[es_loss, es_acc], \r\n",
        "                            verbose=1)\r\n",
        "    \r\n",
        "    plotHistory(history)\r\n",
        "\r\n",
        "    loss, accuracy = model.evaluate( X_test, y_test, verbose=False )\r\n",
        "    print(\"Test Loss:\", loss, \"\\nTest Accuray:\", accuracy)\r\n",
        "\r\n",
        "    now = datetime.now()\r\n",
        "\r\n",
        "    accuracyLogsFile.write(\"Time: \" + str(now.strftime(\"%Y-%m-%d %H:%M:%S\")) + \"\\n\")\r\n",
        "    accuracyLogsFile.write(\"\\tModel Type: \"  + name + \"\\tPreTrainedEmbedding: \" + str(pre_trained_embedding) + \"\\tTrainEmbedding: \" + str(train_embedding) + \"\\n\")\r\n",
        "    accuracyLogsFile.write( \"\\t\\tTest Loss: \" + str(loss)  + \"\\n\\t\\tTest Accuray: \" + str(accuracy) + \"\\n\\n\\n\" )\r\n",
        "\r\n"
      ],
      "execution_count": null,
      "outputs": []
    },
    {
      "cell_type": "code",
      "metadata": {
        "colab": {
          "base_uri": "https://localhost:8080/",
          "height": 1000
        },
        "id": "jJeUDMW6QMPX",
        "outputId": "8abfd8e4-293b-424c-8e7d-068016e67231"
      },
      "source": [
        "_pre_trained_embedding = True\r\n",
        "_train_embedding = True\r\n",
        "# EMBEDDING_DIM = 400\r\n",
        "# word_vectors = []\r\n",
        "\r\n",
        "runAll( data_text, data_label, test_data_text, test_data_label,\r\n",
        "            pre_trained_embedding = _pre_trained_embedding,\r\n",
        "            train_embedding = _train_embedding,\r\n",
        "            patience = 4,\r\n",
        "            EMBEDDING_DIM = EMBEDDING_DIM,\r\n",
        "            word_vectors = word_vectors,\r\n",
        "            name = \"Skipgram_200D\", )"
      ],
      "execution_count": null,
      "outputs": [
        {
          "output_type": "stream",
          "text": [
            "************\n",
            " 56716 many word randomized.\n",
            "************\n",
            "\n",
            "Pre-Trained Word Embedding\n",
            "Model: \"sequential_10\"\n",
            "_________________________________________________________________\n",
            "Layer (type)                 Output Shape              Param #   \n",
            "=================================================================\n",
            "embedding_10 (Embedding)     (None, 6516, 200)         32745200  \n",
            "_________________________________________________________________\n",
            "conv1d_10 (Conv1D)           (None, 6516, 128)         204928    \n",
            "_________________________________________________________________\n",
            "dropout_10 (Dropout)         (None, 6516, 128)         0         \n",
            "_________________________________________________________________\n",
            "max_pooling1d_10 (MaxPooling (None, 3258, 128)         0         \n",
            "_________________________________________________________________\n",
            "flatten_10 (Flatten)         (None, 417024)            0         \n",
            "_________________________________________________________________\n",
            "dense_20 (Dense)             (None, 10)                4170250   \n",
            "_________________________________________________________________\n",
            "dense_21 (Dense)             (None, 5)                 55        \n",
            "=================================================================\n",
            "Total params: 37,120,433\n",
            "Trainable params: 37,120,433\n",
            "Non-trainable params: 0\n",
            "_________________________________________________________________\n",
            "None\n",
            "Epoch 1/20\n",
            "225/225 [==============================] - 94s 414ms/step - loss: 0.8631 - accuracy: 0.6872 - val_loss: 0.4424 - val_accuracy: 0.8500\n",
            "Epoch 2/20\n",
            "225/225 [==============================] - 93s 412ms/step - loss: 0.2555 - accuracy: 0.9074 - val_loss: 0.4096 - val_accuracy: 0.8487\n",
            "Epoch 3/20\n",
            "225/225 [==============================] - 92s 411ms/step - loss: 0.0996 - accuracy: 0.9698 - val_loss: 0.4862 - val_accuracy: 0.8462\n",
            "Epoch 4/20\n",
            "225/225 [==============================] - 93s 413ms/step - loss: 0.0425 - accuracy: 0.9887 - val_loss: 0.4732 - val_accuracy: 0.8537\n",
            "Epoch 5/20\n",
            "225/225 [==============================] - 93s 414ms/step - loss: 0.0196 - accuracy: 0.9957 - val_loss: 0.6163 - val_accuracy: 0.8525\n",
            "Epoch 6/20\n",
            "225/225 [==============================] - 93s 411ms/step - loss: 0.0081 - accuracy: 0.9979 - val_loss: 0.6272 - val_accuracy: 0.8537\n"
          ],
          "name": "stdout"
        },
        {
          "output_type": "display_data",
          "data": {
            "image/png": "[encoded data removed]",
            "text/plain": [
              "<Figure size 432x288 with 1 Axes>"
            ]
          },
          "metadata": {
            "tags": [],
            "needs_background": "light"
          }
        },
        {
          "output_type": "display_data",
          "data": {
            "image/png": "[encoded data removed]",
            "text/plain": [
              "<Figure size 432x288 with 1 Axes>"
            ]
          },
          "metadata": {
            "tags": [],
            "needs_background": "light"
          }
        },
        {
          "output_type": "stream",
          "text": [
            "Test Loss: 0.5883594155311584 \n",
            "Test Accuray: 0.8650000095367432\n"
          ],
          "name": "stdout"
        }
      ]
    },
    {
      "cell_type": "code",
      "metadata": {
        "id": "hvb1g8FUaMoo"
      },
      "source": [
        "accuracyLogsFile.close()"
      ],
      "execution_count": null,
      "outputs": []
    },
    {
      "cell_type": "markdown",
      "metadata": {
        "id": "Co7xHYqbPwFS"
      },
      "source": [
        "# CNN Codes Separately"
      ]
    },
    {
      "cell_type": "code",
      "metadata": {
        "id": "O9ZMggyhwEnQ"
      },
      "source": [
        "tokenizer = Tokenizer()\r\n",
        "\r\n",
        "tokenizer.fit_on_texts(data_text)"
      ],
      "execution_count": null,
      "outputs": []
    },
    {
      "cell_type": "code",
      "metadata": {
        "id": "oE9Io9PRwuwd"
      },
      "source": [
        "encoded_docs = tokenizer.texts_to_sequences(data_text)"
      ],
      "execution_count": null,
      "outputs": []
    },
    {
      "cell_type": "code",
      "metadata": {
        "id": "tJ0QJdnnwzxe"
      },
      "source": [
        "max_length = max([len(s.split()) for s in data_text])\r\n",
        "Xtrain = pad_sequences(encoded_docs, maxlen=max_length, padding='post')"
      ],
      "execution_count": null,
      "outputs": []
    },
    {
      "cell_type": "code",
      "metadata": {
        "id": "0DCfrKc9xO3O"
      },
      "source": [
        "vocab_size = len(tokenizer.word_index) + 1"
      ],
      "execution_count": null,
      "outputs": []
    },
    {
      "cell_type": "code",
      "metadata": {
        "colab": {
          "base_uri": "https://localhost:8080/"
        },
        "id": "Gurw7EMXeDOf",
        "outputId": "6271ef0b-3147-4a70-a6a1-5ccc81799aa9"
      },
      "source": [
        "word_index = tokenizer.word_index\r\n",
        "\r\n",
        "count = 0\r\n",
        "\r\n",
        "embedding_matrix = np.zeros((vocab_size, EMBEDDING_DIM))\r\n",
        "for word, i in word_index.items():\r\n",
        "    try:\r\n",
        "        embedding_vector = word_vectors[word]\r\n",
        "        embedding_matrix[i] = embedding_vector\r\n",
        "    except KeyError:\r\n",
        "        count += 1\r\n",
        "        # if random.randint(0,19) == 0:\r\n",
        "        #     print(word,\"removed\")\r\n",
        "        embedding_matrix[i]=np.random.normal(0,np.sqrt(0.25),EMBEDDING_DIM)\r\n",
        "\r\n",
        "print(count, \"many word removed.\", word)"
      ],
      "execution_count": null,
      "outputs": [
        {
          "output_type": "stream",
          "text": [
            "56716 many word removed. zetas\n"
          ],
          "name": "stdout"
        }
      ]
    },
    {
      "cell_type": "code",
      "metadata": {
        "id": "gnN8cOVXodua"
      },
      "source": [
        "del(word_vectors)"
      ],
      "execution_count": null,
      "outputs": []
    },
    {
      "cell_type": "code",
      "metadata": {
        "id": "gPpKm2Em--2R"
      },
      "source": [
        "train_labels = np.array( data_label.map(class_mapping) )\r\n",
        "train_labels = to_categorical(train_labels, 5)"
      ],
      "execution_count": null,
      "outputs": []
    },
    {
      "cell_type": "code",
      "metadata": {
        "id": "VdZVARxZ_F5s"
      },
      "source": [
        "y_test = np.array( test_data_label.map(class_mapping) )\r\n",
        "y_test = to_categorical(y_test, 5)"
      ],
      "execution_count": null,
      "outputs": []
    },
    {
      "cell_type": "code",
      "metadata": {
        "id": "iuaw_NGIxoim"
      },
      "source": [
        "X_train, X_valid, y_train, y_valid = train_test_split(\r\n",
        "                                                    Xtrain,\r\n",
        "                                                    train_labels,\r\n",
        "                                                    test_size= 0.1,\r\n",
        "                                                    random_state=1)\r\n",
        "\r\n",
        "encoded_docs = tokenizer.texts_to_sequences(test_data_text)\r\n",
        "\r\n",
        "X_test = pad_sequences(encoded_docs, maxlen=max_length, padding='post')\r\n",
        "\r\n",
        "\r\n",
        "data_text = []\r\n",
        "data_label = []\r\n",
        "test_data_text = []\r\n",
        "test_data_label = []"
      ],
      "execution_count": null,
      "outputs": []
    },
    {
      "cell_type": "code",
      "metadata": {
        "id": "pwPRc1XjgLro"
      },
      "source": [
        "embedding_layer = layers.Embedding(vocab_size,\r\n",
        "                            EMBEDDING_DIM,\r\n",
        "                            input_length=max_length,\r\n",
        "                            weights=[embedding_matrix],\r\n",
        "                            trainable=True,\r\n",
        "                            input_shape=(X_train.shape[1],)\r\n",
        "                            )"
      ],
      "execution_count": null,
      "outputs": []
    },
    {
      "cell_type": "code",
      "metadata": {
        "id": "a8NnIOlRg6Ba"
      },
      "source": [
        "EMBEDDING_DIM = 100\r\n",
        "\r\n",
        "embedding_layer = layers.Embedding(vocab_size,\r\n",
        "                            EMBEDDING_DIM,\r\n",
        "                            input_length=max_length,\r\n",
        "                            trainable=False,\r\n",
        "                            input_shape=(X_train.shape[1],) ) "
      ],
      "execution_count": null,
      "outputs": []
    },
    {
      "cell_type": "code",
      "metadata": {
        "id": "slEwYFAwfJx4"
      },
      "source": [
        "model = Sequential()\r\n",
        "\r\n",
        "model.add(embedding_layer)\r\n",
        "\r\n",
        "# model.add()\r\n",
        "\r\n",
        "# model.add(layers.Conv1D(filters=128, kernel_size=2, padding=\"same\", activation='relu'))\r\n",
        "\r\n",
        "# model.add(layers.MaxPooling1D(pool_size=2))\r\n",
        "\r\n",
        "# model.add(layers.Conv1D(filters=128, kernel_size=3, padding=\"same\", activation='relu'))\r\n",
        "\r\n",
        "# model.add(layers.MaxPooling1D(pool_size=3))\r\n",
        "\r\n",
        "model.add(layers.Conv1D(filters=128, kernel_size=8, padding=\"same\", activation='relu'))\r\n",
        "\r\n",
        "model.add(layers.MaxPooling1D(pool_size=4))\r\n",
        "\r\n",
        "model.add(layers.Flatten())\r\n",
        "\r\n",
        "model.add(layers.Dense(128, activation='relu'))\r\n",
        "\r\n",
        "model.add(layers.Dropout(rate=0.5))\r\n",
        "\r\n",
        "model.add(layers.Dense(5, activation='softmax'))"
      ],
      "execution_count": null,
      "outputs": []
    },
    {
      "cell_type": "markdown",
      "metadata": {
        "id": "bK8-kIDYNTz6"
      },
      "source": [
        "# MultiChannel CNN"
      ]
    },
    {
      "cell_type": "code",
      "metadata": {
        "colab": {
          "base_uri": "https://localhost:8080/"
        },
        "id": "yDF_SRzDK5De",
        "outputId": "8cbc97d4-774d-491a-ea83-d9717fc742a0"
      },
      "source": [
        "tokenizer = Tokenizer()\n",
        "tokenizer.fit_on_texts(data_text)\n",
        "\n",
        "encoded_docs = tokenizer.texts_to_sequences(data_text)\n",
        "\n",
        "max_length = max([len(s.split()) for s in data_text])\n",
        "Xtrain = pad_sequences(encoded_docs, maxlen=max_length, padding='post')\n",
        "\n",
        "vocab_size = len(tokenizer.word_index) + 1\n",
        "\n",
        "word_index = tokenizer.word_index\n",
        "\n",
        "count = 0\n",
        "embedding_matrix = np.zeros((vocab_size, EMBEDDING_DIM))\n",
        "\n",
        "for word, i in word_index.items():\n",
        "    try:\n",
        "        embedding_vector = word_vectors[word]\n",
        "        embedding_matrix[i] = embedding_vector\n",
        "    except KeyError:\n",
        "        count += 1\n",
        "        # if random.randint(0,19) == 0:\n",
        "        #     print(word,\"removed\")\n",
        "        embedding_matrix[i]=np.random.normal(0,np.sqrt(0.25),EMBEDDING_DIM)\n",
        "\n",
        "print(\"************\\n\", count, \"many word randomized.\\n************\\n\")\n",
        "\n",
        "# del(word_vectors)\n",
        "\n",
        "train_labels = np.array( data_label.map(class_mapping) )\n",
        "train_labels = to_categorical(train_labels, 5)\n",
        "\n",
        "y_test = np.array( test_data_label.map(class_mapping) )\n",
        "y_test = to_categorical(y_test, 5)\n",
        "\n",
        "X_train, X_valid, y_train, y_valid = train_test_split(\n",
        "                                                Xtrain,\n",
        "                                                train_labels,\n",
        "                                                test_size = 0.1,\n",
        "                                                random_state = 42)\n",
        "\n",
        "encoded_docs = tokenizer.texts_to_sequences(test_data_text)\n",
        "\n",
        "X_test = pad_sequences(encoded_docs, maxlen=max_length, padding='post')\n"
      ],
      "execution_count": null,
      "outputs": [
        {
          "output_type": "stream",
          "text": [
            "************\n",
            " 56716 many word randomized.\n",
            "************\n",
            "\n"
          ],
          "name": "stdout"
        }
      ]
    },
    {
      "cell_type": "code",
      "metadata": {
        "id": "bFAht0N7ACVc"
      },
      "source": [
        "length = X_train.shape[1]"
      ],
      "execution_count": null,
      "outputs": []
    },
    {
      "cell_type": "code",
      "metadata": {
        "id": "T9xk4Xfu_8DU"
      },
      "source": [
        "from keras.models import Model\r\n",
        "from keras.layers import Input\r\n",
        "from keras.layers import Dense\r\n",
        "from keras.layers import Flatten\r\n",
        "from keras.layers import Dropout\r\n",
        "from keras.layers import Embedding\r\n",
        "from keras.layers.convolutional import Conv1D\r\n",
        "from keras.layers.convolutional import MaxPooling1D\r\n",
        "from keras.layers.merge import concatenate\r\n",
        "\r\n",
        "# channel 1\r\n",
        "inputs1 = Input(shape=(length,))\r\n",
        "embedding1 = Embedding(vocab_size,\r\n",
        "                                EMBEDDING_DIM,\r\n",
        "                                input_length=max_length,\r\n",
        "                                weights=[embedding_matrix],\r\n",
        "                                trainable=True,\r\n",
        "                                input_shape=(X_train.shape[1],)\r\n",
        "                                )(inputs1)\r\n",
        "conv1 = Conv1D(filters=32, kernel_size=3, activation='relu')(embedding1)\r\n",
        "drop1 = Dropout(0.5)(conv1)\r\n",
        "pool1 = MaxPooling1D(pool_size=2)(drop1)\r\n",
        "flat1 = Flatten()(pool1)\r\n",
        "# channel 2\r\n",
        "inputs2 = Input(shape=(length,))\r\n",
        "embedding2 = Embedding(vocab_size,\r\n",
        "                                EMBEDDING_DIM,\r\n",
        "                                input_length=max_length,\r\n",
        "                                weights=[embedding_matrix],\r\n",
        "                                trainable=True,\r\n",
        "                                input_shape=(X_train.shape[1],)\r\n",
        "                                )(inputs2)\r\n",
        "conv2 = Conv1D(filters=32, kernel_size=5, activation='relu')(embedding2)\r\n",
        "drop2 = Dropout(0.5)(conv2)\r\n",
        "pool2 = MaxPooling1D(pool_size=2)(drop2)\r\n",
        "flat2 = Flatten()(pool2)\r\n",
        "# channel 3\r\n",
        "inputs3 = Input(shape=(length,))\r\n",
        "embedding3 = Embedding(vocab_size,\r\n",
        "                                EMBEDDING_DIM,\r\n",
        "                                input_length=max_length,\r\n",
        "                                weights=[embedding_matrix],\r\n",
        "                                trainable=True,\r\n",
        "                                input_shape=(X_train.shape[1],)\r\n",
        "                                )(inputs3)\r\n",
        "conv3 = Conv1D(filters=32, kernel_size=7, activation='relu')(embedding3)\r\n",
        "drop3 = Dropout(0.5)(conv3)\r\n",
        "pool3 = MaxPooling1D(pool_size=2)(drop3)\r\n",
        "flat3 = Flatten()(pool3)\r\n",
        "# merge\r\n",
        "merged = concatenate([flat1, flat2, flat3])\r\n",
        "# interpretation\r\n",
        "dense1 = Dense(10, activation='relu')(merged)\r\n",
        "outputs = Dense(5, activation='softmax')(dense1)\r\n",
        "model = Model(inputs=[inputs1, inputs2, inputs3], outputs=outputs)"
      ],
      "execution_count": null,
      "outputs": []
    },
    {
      "cell_type": "code",
      "metadata": {
        "id": "-AkCpa6e6rxR"
      },
      "source": [
        "es_loss = EarlyStopping(monitor='val_loss', patience=4)\r\n",
        "es_acc = EarlyStopping(monitor='val_accuracy', patience=4)"
      ],
      "execution_count": null,
      "outputs": []
    },
    {
      "cell_type": "code",
      "metadata": {
        "colab": {
          "base_uri": "https://localhost:8080/"
        },
        "id": "xqns_IMtubW7",
        "outputId": "765cc9ec-1386-4f9b-fa04-adc83700efce"
      },
      "source": [
        "model.compile(loss='categorical_crossentropy',\r\n",
        "              optimizer = \"adam\",\r\n",
        "              metrics=['accuracy'])\r\n",
        "\r\n",
        "model.summary()"
      ],
      "execution_count": null,
      "outputs": [
        {
          "output_type": "stream",
          "text": [
            "Model: \"model_2\"\n",
            "__________________________________________________________________________________________________\n",
            "Layer (type)                    Output Shape         Param #     Connected to                     \n",
            "==================================================================================================\n",
            "input_12 (InputLayer)           [(None, 6516)]       0                                            \n",
            "__________________________________________________________________________________________________\n",
            "input_13 (InputLayer)           [(None, 6516)]       0                                            \n",
            "__________________________________________________________________________________________________\n",
            "input_14 (InputLayer)           [(None, 6516)]       0                                            \n",
            "__________________________________________________________________________________________________\n",
            "embedding_18 (Embedding)        (None, 6516, 200)    32745200    input_12[0][0]                   \n",
            "__________________________________________________________________________________________________\n",
            "embedding_19 (Embedding)        (None, 6516, 200)    32745200    input_13[0][0]                   \n",
            "__________________________________________________________________________________________________\n",
            "embedding_20 (Embedding)        (None, 6516, 200)    32745200    input_14[0][0]                   \n",
            "__________________________________________________________________________________________________\n",
            "conv1d_18 (Conv1D)              (None, 6514, 32)     19232       embedding_18[0][0]               \n",
            "__________________________________________________________________________________________________\n",
            "conv1d_19 (Conv1D)              (None, 6512, 32)     32032       embedding_19[0][0]               \n",
            "__________________________________________________________________________________________________\n",
            "conv1d_20 (Conv1D)              (None, 6510, 32)     44832       embedding_20[0][0]               \n",
            "__________________________________________________________________________________________________\n",
            "dropout_18 (Dropout)            (None, 6514, 32)     0           conv1d_18[0][0]                  \n",
            "__________________________________________________________________________________________________\n",
            "dropout_19 (Dropout)            (None, 6512, 32)     0           conv1d_19[0][0]                  \n",
            "__________________________________________________________________________________________________\n",
            "dropout_20 (Dropout)            (None, 6510, 32)     0           conv1d_20[0][0]                  \n",
            "__________________________________________________________________________________________________\n",
            "max_pooling1d_18 (MaxPooling1D) (None, 3257, 32)     0           dropout_18[0][0]                 \n",
            "__________________________________________________________________________________________________\n",
            "max_pooling1d_19 (MaxPooling1D) (None, 3256, 32)     0           dropout_19[0][0]                 \n",
            "__________________________________________________________________________________________________\n",
            "max_pooling1d_20 (MaxPooling1D) (None, 3255, 32)     0           dropout_20[0][0]                 \n",
            "__________________________________________________________________________________________________\n",
            "flatten_18 (Flatten)            (None, 104224)       0           max_pooling1d_18[0][0]           \n",
            "__________________________________________________________________________________________________\n",
            "flatten_19 (Flatten)            (None, 104192)       0           max_pooling1d_19[0][0]           \n",
            "__________________________________________________________________________________________________\n",
            "flatten_20 (Flatten)            (None, 104160)       0           max_pooling1d_20[0][0]           \n",
            "__________________________________________________________________________________________________\n",
            "concatenate_2 (Concatenate)     (None, 312576)       0           flatten_18[0][0]                 \n",
            "                                                                 flatten_19[0][0]                 \n",
            "                                                                 flatten_20[0][0]                 \n",
            "__________________________________________________________________________________________________\n",
            "dense_26 (Dense)                (None, 10)           3125770     concatenate_2[0][0]              \n",
            "__________________________________________________________________________________________________\n",
            "dense_27 (Dense)                (None, 5)            55          dense_26[0][0]                   \n",
            "==================================================================================================\n",
            "Total params: 101,457,521\n",
            "Trainable params: 101,457,521\n",
            "Non-trainable params: 0\n",
            "__________________________________________________________________________________________________\n"
          ],
          "name": "stdout"
        }
      ]
    },
    {
      "cell_type": "code",
      "metadata": {
        "colab": {
          "base_uri": "https://localhost:8080/",
          "height": 771
        },
        "id": "IP7HYh3P1zGn",
        "outputId": "7add5503-192a-44d8-9ffc-8c770f783b8d"
      },
      "source": [
        "plot_model(model, show_shapes=True , to_file=\"/content/drive/MyDrive/CS 445 Project 3/Multichannel Model Layers.png\")"
      ],
      "execution_count": null,
      "outputs": [
        {
          "output_type": "execute_result",
          "data": {
            "image/png": "[encoded data removed]",
            "text/plain": [
              "<IPython.core.display.Image object>"
            ]
          },
          "metadata": {
            "tags": []
          },
          "execution_count": 77
        }
      ]
    },
    {
      "cell_type": "code",
      "metadata": {
        "colab": {
          "base_uri": "https://localhost:8080/"
        },
        "id": "SsbTpCaUxcpo",
        "outputId": "9574b31e-c327-4092-b47d-9a8611b9d652"
      },
      "source": [
        "# history = model.fit(    X_train , y_train,\r\n",
        "#                         epochs=20,\r\n",
        "#                         # validation_data=(X_valid, y_valid),\r\n",
        "#                         # callbacks=[es_loss, es_acc], \r\n",
        "#                         verbose=1)\r\n",
        "\r\n",
        "history = model.fit(  [X_train,X_train,X_train],\r\n",
        "            np.array(y_train),\r\n",
        "            epochs=10,\r\n",
        "            validation_data=( [X_valid, X_valid, X_valid], np.array(y_valid) ),\r\n",
        "            callbacks=[es_loss, es_acc],\r\n",
        "            batch_size=16, )\r\n",
        "\r\n",
        "print(\"DONE\")"
      ],
      "execution_count": null,
      "outputs": [
        {
          "output_type": "stream",
          "text": [
            "Epoch 1/10\n",
            "450/450 [==============================] - 413s 916ms/step - loss: 1.1113 - accuracy: 0.5181 - val_loss: 0.7214 - val_accuracy: 0.7462\n",
            "Epoch 2/10\n",
            "450/450 [==============================] - 417s 928ms/step - loss: 0.3992 - accuracy: 0.8646 - val_loss: 0.5038 - val_accuracy: 0.8263\n",
            "Epoch 3/10\n",
            "450/450 [==============================] - 414s 921ms/step - loss: 0.1458 - accuracy: 0.9562 - val_loss: 0.5617 - val_accuracy: 0.8250\n",
            "Epoch 4/10\n",
            "450/450 [==============================] - 411s 913ms/step - loss: 0.0760 - accuracy: 0.9875 - val_loss: 0.6471 - val_accuracy: 0.8263\n",
            "Epoch 5/10\n",
            "450/450 [==============================] - 413s 917ms/step - loss: 0.0333 - accuracy: 0.9938 - val_loss: 0.7136 - val_accuracy: 0.8138\n",
            "Epoch 6/10\n",
            "329/450 [====================>.........] - ETA: 1:49 - loss: 0.0112 - accuracy: 0.9975"
          ],
          "name": "stdout"
        }
      ]
    },
    {
      "cell_type": "code",
      "metadata": {
        "id": "8cDAA5mllTvi"
      },
      "source": [
        "plotHistory(history)"
      ],
      "execution_count": null,
      "outputs": []
    },
    {
      "cell_type": "code",
      "metadata": {
        "id": "SABfEegzH_hN"
      },
      "source": [
        "loss, accuracy = model.evaluate([X_test, X_test, X_test] , np.array(y_test), verbose=False )\r\n",
        "print(\"Loss:\", loss, \"\\nAccuray:\", accuracy)"
      ],
      "execution_count": null,
      "outputs": []
    }
  ]
}